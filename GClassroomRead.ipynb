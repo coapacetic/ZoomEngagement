{
 "cells": [
  {
   "cell_type": "code",
   "execution_count": 1,
   "metadata": {},
   "outputs": [],
   "source": [
    "# Import Libraries\n",
    "from __future__ import print_function\n",
    "import pandas as pd\n",
    "import numpy as np\n",
    "import gspread\n",
    "from oauth2client.service_account import ServiceAccountCredentials\n",
    "from pprint import pprint\n",
    "import os.path\n",
    "from googleapiclient.discovery import build\n",
    "from google_auth_oauthlib.flow import InstalledAppFlow\n",
    "from google.auth.transport.requests import Request"
   ]
  },
  {
   "cell_type": "code",
   "execution_count": null,
   "metadata": {},
   "outputs": [
    {
     "name": "stdout",
     "output_type": "stream",
     "text": [
      "Please visit this URL to authorize this application: https://accounts.google.com/o/oauth2/auth?response_type=code&client_id=186570489424-0jfl1qi6oc4jgofdetktn6d4eef2ragg.apps.googleusercontent.com&redirect_uri=http%3A%2F%2Flocalhost%3A57450%2F&scope=https%3A%2F%2Fwww.googleapis.com%2Fauth%2Fclassroom.courses.readonly&state=TLxOnq6sTNz9otpICJIeq4NosKfV3X&access_type=offline\n"
     ]
    }
   ],
   "source": [
    "SCOPES = ['https://www.googleapis.com/auth/classroom.courses.readonly']\n",
    "\n",
    "flow = InstalledAppFlow.from_client_secrets_file('kyle-creds.json', SCOPES)\n",
    "creds = flow.run_local_server(port=0)\n",
    "service = build('classroom', 'v1', credentials=creds)\n",
    "\n",
    "results = service.courses().list(pageSize=10).execute()\n",
    "courses = results.get('courses', [])\n",
    "\n",
    "if not courses:\n",
    "    print('No courses found.')\n",
    "else:\n",
    "    print('Courses:')\n",
    "    for course in courses:\n",
    "        print(course['name'])\n"
   ]
  },
  {
   "cell_type": "code",
   "execution_count": null,
   "metadata": {},
   "outputs": [],
   "source": [
    "## Copied from the website\n",
    "\n",
    "courses = []\n",
    "page_token = None\n",
    "\n",
    "while True:\n",
    "    response = service.courses().list(pageToken=page_token,\n",
    "                                      pageSize=100).execute()\n",
    "    courses.extend(response.get('courses', []))\n",
    "    page_token = response.get('nextPageToken', None)\n",
    "    if not page_token:\n",
    "        break\n",
    "\n",
    "if not courses:\n",
    "    print 'No courses found.'\n",
    "else:\n",
    "    print 'Courses:'\n",
    "    for course in courses:\n",
    "        print u'{0} ({1})'.format(course.get('name'), course.get('id'))"
   ]
  }
 ],
 "metadata": {
  "kernelspec": {
   "display_name": "Python 3",
   "language": "python",
   "name": "python3"
  },
  "language_info": {
   "codemirror_mode": {
    "name": "ipython",
    "version": 3
   },
   "file_extension": ".py",
   "mimetype": "text/x-python",
   "name": "python",
   "nbconvert_exporter": "python",
   "pygments_lexer": "ipython3",
   "version": "3.7.1"
  }
 },
 "nbformat": 4,
 "nbformat_minor": 2
}
