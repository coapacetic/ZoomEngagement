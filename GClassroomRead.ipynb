{
 "cells": [
  {
   "cell_type": "code",
   "execution_count": 5,
   "metadata": {},
   "outputs": [],
   "source": [
    "# Import Libraries\n",
    "import pandas as pd\n",
    "import numpy as np\n",
    "import gspread\n",
    "from oauth2client.service_account import ServiceAccountCredentials\n",
    "from pprint import pprint"
   ]
  },
  {
   "cell_type": "code",
   "execution_count": 6,
   "metadata": {},
   "outputs": [
    {
     "ename": "NameError",
     "evalue": "name 'service' is not defined",
     "output_type": "error",
     "traceback": [
      "\u001b[1;31m---------------------------------------------------------------------------\u001b[0m",
      "\u001b[1;31mNameError\u001b[0m                                 Traceback (most recent call last)",
      "\u001b[1;32m<ipython-input-6-95fbb5d2ae63>\u001b[0m in \u001b[0;36m<module>\u001b[1;34m\u001b[0m\n\u001b[0;32m      7\u001b[0m \u001b[1;33m\u001b[0m\u001b[0m\n\u001b[0;32m      8\u001b[0m \u001b[1;32mwhile\u001b[0m \u001b[1;32mTrue\u001b[0m\u001b[1;33m:\u001b[0m\u001b[1;33m\u001b[0m\u001b[1;33m\u001b[0m\u001b[0m\n\u001b[1;32m----> 9\u001b[1;33m     response = service.courses().list(pageToken=page_token,\n\u001b[0m\u001b[0;32m     10\u001b[0m                                       pageSize=100).execute()\n\u001b[0;32m     11\u001b[0m     \u001b[0mcourses\u001b[0m\u001b[1;33m.\u001b[0m\u001b[0mextend\u001b[0m\u001b[1;33m(\u001b[0m\u001b[0mresponse\u001b[0m\u001b[1;33m.\u001b[0m\u001b[0mget\u001b[0m\u001b[1;33m(\u001b[0m\u001b[1;34m'courses'\u001b[0m\u001b[1;33m,\u001b[0m \u001b[1;33m[\u001b[0m\u001b[1;33m]\u001b[0m\u001b[1;33m)\u001b[0m\u001b[1;33m)\u001b[0m\u001b[1;33m\u001b[0m\u001b[1;33m\u001b[0m\u001b[0m\n",
      "\u001b[1;31mNameError\u001b[0m: name 'service' is not defined"
     ]
    }
   ],
   "source": [
    "# Use gspread to read Google Sheet as a Data Frame\n",
    "scope = [\"https://www.googleapis.com/auth/classroom.coursework.me\",\"https://www.googleapis.com/auth/classroom.coursework.me.readonly\",\"https://www.googleapis.com/auth/classroom.coursework.students\",\"https://www.googleapis.com/auth/classroom.coursework.students.readonly\"]\n",
    "creds = ServiceAccountCredentials.from_json_keyfile_name(\"creds.json\", scope)\n",
    "\n",
    "courses = []\n",
    "page_token = None\n",
    "\n",
    "while True:\n",
    "    response = service.courses().list(pageToken=page_token,\n",
    "                                      pageSize=100).execute()\n",
    "    courses.extend(response.get('courses', []))\n",
    "    page_token = response.get('nextPageToken', None)\n",
    "    if not page_token:\n",
    "        break\n",
    "\n",
    "if not courses:\n",
    "    print('No courses found.')\n",
    "else:\n",
    "    print('Courses:')\n",
    "    for course in courses:\n",
    "        print (u'{0} ({1})'.format(course.get('name'), course.get('id')))"
   ]
  },
  {
   "cell_type": "code",
   "execution_count": null,
   "metadata": {},
   "outputs": [],
   "source": []
  }
 ],
 "metadata": {
  "kernelspec": {
   "display_name": "Python 3",
   "language": "python",
   "name": "python3"
  },
  "language_info": {
   "codemirror_mode": {
    "name": "ipython",
    "version": 3
   },
   "file_extension": ".py",
   "mimetype": "text/x-python",
   "name": "python",
   "nbconvert_exporter": "python",
   "pygments_lexer": "ipython3",
   "version": "3.7.1"
  }
 },
 "nbformat": 4,
 "nbformat_minor": 2
}
