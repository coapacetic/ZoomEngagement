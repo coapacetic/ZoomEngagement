{
 "cells": [
  {
   "cell_type": "code",
   "execution_count": null,
   "metadata": {},
   "outputs": [],
   "source": [
    "###  Import Libraries\n",
    "\n",
    "# Library for importing configuration files\n",
    "from configparser import ConfigParser\n",
    "\n",
    "# Library for converting text to JSON file\n",
    "import json\n",
    "\n",
    "# Library for sending HTTP requests\n",
    "import requests"
   ]
  },
  {
   "cell_type": "code",
   "execution_count": null,
   "metadata": {},
   "outputs": [],
   "source": [
    "### Read in the config file with the userinfo, client_id, and client_secret\n",
    "\n",
    "# Read config.ini file\n",
    "config_object = ConfigParser()\n",
    "config_object.read('config.ini')\n",
    "\n",
    "# Get the key information\n",
    "userinfo = config_object['USERINFO']\n",
    "client_id = userinfo['client_id'] \n",
    "client_secret = userinfo['client_secret']\n",
    "redirect_uri = userinfo['redirect_uri']"
   ]
  },
  {
   "cell_type": "code",
   "execution_count": null,
   "metadata": {},
   "outputs": [],
   "source": [
    "### Step one of the OAuth2 process - get approval from the user\n",
    "\n",
    "# Choose the URL to ask the user for authentication\n",
    "url = 'https://accounts.google.com/o/oauth2/auth?'\n",
    "\n",
    "# Set the scope for which to get approval to access\n",
    "scope = 'https://www.googleapis.com/auth/classroom.courses.readonly'\n",
    "\n",
    "# Set the Redirect URI to be a new tab in teh\n",
    "redirect_uri = 'http://localhost/test'\n",
    "\n",
    "# List the parameters in a dictionary for getting approval\n",
    "payload = {'client_id': client_id,\n",
    "           'scope' : scope,\n",
    "           'response_type' : 'code',\n",
    "           'access_type' : 'offline',\n",
    "           'redirect_uri' : redirect_uri\n",
    "          }\n",
    "\n",
    "# Build the URL for getting user approval that passes the needed parameters\n",
    "method = 'GET'\n",
    "built_url = requests.Request(method, url, params = payload).prepare()\n",
    "built_url = built_url.url\n",
    "\n",
    "# Print the URL to initiate prompt to get user approval.  Take the code from the URL and paste into the config file for future use.\n",
    "print(built_url)"
   ]
  },
  {
   "cell_type": "code",
   "execution_count": null,
   "metadata": {},
   "outputs": [],
   "source": [
    "### Read the Authorization Code from the recently updated config file\n",
    "\n",
    "config_object.read('config.ini')\n",
    "authorization_code = userinfo['authorization_code']"
   ]
  },
  {
   "cell_type": "code",
   "execution_count": null,
   "metadata": {},
   "outputs": [],
   "source": [
    "### Step two of the OAuth2 process - send the code to get the token\n",
    "\n",
    "# Define the URL for which to get the token from the OAuth2 server\n",
    "url = 'https://oauth2.googleapis.com/token'\n",
    "\n",
    "# Define the headers for getting the API Token\n",
    "headers = {'Content-Type':'form-data'}\n",
    "\n",
    "# Define the payload for getting the API Token\n",
    "payload = {'grant_type':'authorization_code',\n",
    "           'code':authorization_code,\n",
    "           'client_id':client_id,\n",
    "           'client_secret': client_secret,\n",
    "           'redirect_uri': redirect_uri}\n",
    "\n",
    "# Build the URL for getting the access token\n",
    "method = 'POST'\n",
    "built_url = requests.Request(method, url, params = payload).prepare()\n",
    "built_url = built_url.url\n",
    "\n",
    "# Send the HTTP request to get the access token\n",
    "authReply = requests.post(url, headers = headers, json = payload)\n",
    "token_response = authReply.json()\n",
    "access_token = token_response['access_token']"
   ]
  },
  {
   "cell_type": "code",
   "execution_count": null,
   "metadata": {},
   "outputs": [],
   "source": [
    "### Update the headers with the Access Token for Authorization\n",
    "\n",
    "headers = {'Authorization': \"Bearer {}\".format(access_token)}"
   ]
  },
  {
   "cell_type": "code",
   "execution_count": null,
   "metadata": {},
   "outputs": [],
   "source": [
    "### Get a list of courses that the user has access to.\n",
    "\n",
    "# Establish the endpoint for getting the request from\n",
    "endpoint = r\"https://classroom.googleapis.com/v1/courses\"\n",
    "\n",
    "# Send the payload to the url to finalize the query\n",
    "courses = requests.get(url = endpoint, headers = headers)\n",
    "\n",
    "# Read the data from teh response sna \n",
    "response = json.loads(course.text)"
   ]
  }
 ],
 "metadata": {
  "kernelspec": {
   "display_name": "Python 3",
   "language": "python",
   "name": "python3"
  },
  "language_info": {
   "codemirror_mode": {
    "name": "ipython",
    "version": 3
   },
   "file_extension": ".py",
   "mimetype": "text/x-python",
   "name": "python",
   "nbconvert_exporter": "python",
   "pygments_lexer": "ipython3",
   "version": "3.7.1"
  }
 },
 "nbformat": 4,
 "nbformat_minor": 2
}
